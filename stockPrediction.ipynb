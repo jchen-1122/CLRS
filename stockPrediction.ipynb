{
  "nbformat": 4,
  "nbformat_minor": 0,
  "metadata": {
    "colab": {
      "name": "stockPrediction.ipynb",
      "provenance": [],
      "authorship_tag": "ABX9TyNfrYpE/LeOGY0lhRxXKPQQ",
      "include_colab_link": true
    },
    "kernelspec": {
      "name": "python3",
      "display_name": "Python 3"
    }
  },
  "cells": [
    {
      "cell_type": "markdown",
      "metadata": {
        "id": "view-in-github",
        "colab_type": "text"
      },
      "source": [
        "<a href=\"https://colab.research.google.com/github/jchen-1122/CLRS/blob/master/stockPrediction.ipynb\" target=\"_parent\"><img src=\"https://colab.research.google.com/assets/colab-badge.svg\" alt=\"Open In Colab\"/></a>"
      ]
    },
    {
      "cell_type": "code",
      "metadata": {
        "id": "p3p0tXIsYrXN",
        "colab_type": "code",
        "colab": {}
      },
      "source": [
        "# import libraries\n",
        "import math\n",
        "import pandas_datareader as web\n",
        "import numpy as np\n",
        "import pandas as pd\n",
        "from sklearn.preprocessing import MinMaxScaler\n",
        "from keras.models import Sequential\n",
        "from keras.layers import Dense, LSTM\n",
        "from datetime import date\n",
        "import matplotlib.pyplot as plt\n",
        "plt.style.use('fivethirtyeight')"
      ],
      "execution_count": 0,
      "outputs": []
    },
    {
      "cell_type": "markdown",
      "metadata": {
        "id": "uC-p0KcLoAXQ",
        "colab_type": "text"
      },
      "source": [
        "# **Stock Prediction using Machine Learning**\n",
        "\n",
        "This program uses an artificial recurrent neural network called Long Short Term Memory (LSTM) to predict the closing stock price of a corporation of using the past 60 day stock price. **Please enter your desired stock in the cell below.** By default, we are going to analyze the Apple stock (AAPL).\n"
      ]
    },
    {
      "cell_type": "code",
      "metadata": {
        "id": "tA0N7U_YqEyv",
        "colab_type": "code",
        "colab": {}
      },
      "source": [
        "stock = 'AAPL'"
      ],
      "execution_count": 0,
      "outputs": []
    },
    {
      "cell_type": "markdown",
      "metadata": {
        "id": "pmjYRdiEqVBb",
        "colab_type": "text"
      },
      "source": [
        "**Choose a year that your model will start to trained on.** The longer the time frame, the more data the model will train on. However, the more the data, the longer the model will run for and could possibly result in overfitting. Choose wisely! By default, we will look at the stock prices from January 1, 2012."
      ]
    },
    {
      "cell_type": "code",
      "metadata": {
        "id": "UNhoO-fVtIPp",
        "colab_type": "code",
        "colab": {}
      },
      "source": [
        "year = 2012"
      ],
      "execution_count": 0,
      "outputs": []
    },
    {
      "cell_type": "code",
      "metadata": {
        "id": "bleNrf8rZEUz",
        "colab_type": "code",
        "colab": {
          "base_uri": "https://localhost:8080/",
          "height": 450
        },
        "outputId": "6821d6da-5575-4265-9b8e-ad072e413a22"
      },
      "source": [
        "def transform_year_to_dt(year):\n",
        "  return str(year) + '-01-01'\n",
        "\n",
        "# Get the stock quote\n",
        "df = web.DataReader(stock, data_source='yahoo', start=transform_year_to_dt(year), end=date.today())"
      ],
      "execution_count": 181,
      "outputs": [
        {
          "output_type": "execute_result",
          "data": {
            "text/html": [
              "<div>\n",
              "<style scoped>\n",
              "    .dataframe tbody tr th:only-of-type {\n",
              "        vertical-align: middle;\n",
              "    }\n",
              "\n",
              "    .dataframe tbody tr th {\n",
              "        vertical-align: top;\n",
              "    }\n",
              "\n",
              "    .dataframe thead th {\n",
              "        text-align: right;\n",
              "    }\n",
              "</style>\n",
              "<table border=\"1\" class=\"dataframe\">\n",
              "  <thead>\n",
              "    <tr style=\"text-align: right;\">\n",
              "      <th></th>\n",
              "      <th>High</th>\n",
              "      <th>Low</th>\n",
              "      <th>Open</th>\n",
              "      <th>Close</th>\n",
              "      <th>Volume</th>\n",
              "      <th>Adj Close</th>\n",
              "    </tr>\n",
              "    <tr>\n",
              "      <th>Date</th>\n",
              "      <th></th>\n",
              "      <th></th>\n",
              "      <th></th>\n",
              "      <th></th>\n",
              "      <th></th>\n",
              "      <th></th>\n",
              "    </tr>\n",
              "  </thead>\n",
              "  <tbody>\n",
              "    <tr>\n",
              "      <th>2012-01-03</th>\n",
              "      <td>58.928570</td>\n",
              "      <td>58.428570</td>\n",
              "      <td>58.485714</td>\n",
              "      <td>58.747143</td>\n",
              "      <td>75555200.0</td>\n",
              "      <td>50.994907</td>\n",
              "    </tr>\n",
              "    <tr>\n",
              "      <th>2012-01-04</th>\n",
              "      <td>59.240002</td>\n",
              "      <td>58.468571</td>\n",
              "      <td>58.571430</td>\n",
              "      <td>59.062859</td>\n",
              "      <td>65005500.0</td>\n",
              "      <td>51.268970</td>\n",
              "    </tr>\n",
              "    <tr>\n",
              "      <th>2012-01-05</th>\n",
              "      <td>59.792858</td>\n",
              "      <td>58.952858</td>\n",
              "      <td>59.278572</td>\n",
              "      <td>59.718571</td>\n",
              "      <td>67817400.0</td>\n",
              "      <td>51.838169</td>\n",
              "    </tr>\n",
              "    <tr>\n",
              "      <th>2012-01-06</th>\n",
              "      <td>60.392857</td>\n",
              "      <td>59.888573</td>\n",
              "      <td>59.967144</td>\n",
              "      <td>60.342857</td>\n",
              "      <td>79573200.0</td>\n",
              "      <td>52.380054</td>\n",
              "    </tr>\n",
              "    <tr>\n",
              "      <th>2012-01-09</th>\n",
              "      <td>61.107143</td>\n",
              "      <td>60.192856</td>\n",
              "      <td>60.785713</td>\n",
              "      <td>60.247143</td>\n",
              "      <td>98506100.0</td>\n",
              "      <td>52.296970</td>\n",
              "    </tr>\n",
              "    <tr>\n",
              "      <th>...</th>\n",
              "      <td>...</td>\n",
              "      <td>...</td>\n",
              "      <td>...</td>\n",
              "      <td>...</td>\n",
              "      <td>...</td>\n",
              "      <td>...</td>\n",
              "    </tr>\n",
              "    <tr>\n",
              "      <th>2020-02-14</th>\n",
              "      <td>325.980011</td>\n",
              "      <td>322.850006</td>\n",
              "      <td>324.739990</td>\n",
              "      <td>324.950012</td>\n",
              "      <td>20028400.0</td>\n",
              "      <td>324.950012</td>\n",
              "    </tr>\n",
              "    <tr>\n",
              "      <th>2020-02-18</th>\n",
              "      <td>319.750000</td>\n",
              "      <td>314.609985</td>\n",
              "      <td>315.359985</td>\n",
              "      <td>319.000000</td>\n",
              "      <td>38132800.0</td>\n",
              "      <td>319.000000</td>\n",
              "    </tr>\n",
              "    <tr>\n",
              "      <th>2020-02-19</th>\n",
              "      <td>324.570007</td>\n",
              "      <td>320.000000</td>\n",
              "      <td>320.000000</td>\n",
              "      <td>323.619995</td>\n",
              "      <td>23496000.0</td>\n",
              "      <td>323.619995</td>\n",
              "    </tr>\n",
              "    <tr>\n",
              "      <th>2020-02-20</th>\n",
              "      <td>324.649994</td>\n",
              "      <td>318.209991</td>\n",
              "      <td>322.630005</td>\n",
              "      <td>320.299988</td>\n",
              "      <td>25141500.0</td>\n",
              "      <td>320.299988</td>\n",
              "    </tr>\n",
              "    <tr>\n",
              "      <th>2020-02-21</th>\n",
              "      <td>320.450012</td>\n",
              "      <td>310.500000</td>\n",
              "      <td>318.619995</td>\n",
              "      <td>313.049988</td>\n",
              "      <td>32388500.0</td>\n",
              "      <td>313.049988</td>\n",
              "    </tr>\n",
              "  </tbody>\n",
              "</table>\n",
              "<p>2047 rows × 6 columns</p>\n",
              "</div>"
            ],
            "text/plain": [
              "                  High         Low  ...      Volume   Adj Close\n",
              "Date                                ...                        \n",
              "2012-01-03   58.928570   58.428570  ...  75555200.0   50.994907\n",
              "2012-01-04   59.240002   58.468571  ...  65005500.0   51.268970\n",
              "2012-01-05   59.792858   58.952858  ...  67817400.0   51.838169\n",
              "2012-01-06   60.392857   59.888573  ...  79573200.0   52.380054\n",
              "2012-01-09   61.107143   60.192856  ...  98506100.0   52.296970\n",
              "...                ...         ...  ...         ...         ...\n",
              "2020-02-14  325.980011  322.850006  ...  20028400.0  324.950012\n",
              "2020-02-18  319.750000  314.609985  ...  38132800.0  319.000000\n",
              "2020-02-19  324.570007  320.000000  ...  23496000.0  323.619995\n",
              "2020-02-20  324.649994  318.209991  ...  25141500.0  320.299988\n",
              "2020-02-21  320.450012  310.500000  ...  32388500.0  313.049988\n",
              "\n",
              "[2047 rows x 6 columns]"
            ]
          },
          "metadata": {
            "tags": []
          },
          "execution_count": 181
        }
      ]
    },
    {
      "cell_type": "markdown",
      "metadata": {
        "id": "mt-Nn4xFuE-O",
        "colab_type": "text"
      },
      "source": [
        "Below is the current close price history graph of the stock with price as a function of time."
      ]
    },
    {
      "cell_type": "code",
      "metadata": {
        "id": "ZUK_6tPUZlki",
        "colab_type": "code",
        "colab": {
          "base_uri": "https://localhost:8080/",
          "height": 558
        },
        "outputId": "eec15c3a-a313-4b08-ac5e-36137e57d98e"
      },
      "source": [
        "# Data visualizaton of closing price history\n",
        "plt.figure(figsize=(16, 8))\n",
        "plt.title('Close Price History')\n",
        "plt.plot(df['Close'])\n",
        "plt.xlabel('Date', fontsize=18)\n",
        "plt.ylabel(stock+' Close Price USD ($)', fontsize=18)\n",
        "plt.show()"
      ],
      "execution_count": 185,
      "outputs": [
        {
          "output_type": "display_data",
          "data": {
            "image/png": "[encoded data removed]",
            "text/plain": [
              "<Figure size 1152x576 with 1 Axes>"
            ]
          },
          "metadata": {
            "tags": []
          }
        }
      ]
    },
    {
      "cell_type": "markdown",
      "metadata": {
        "id": "TLUc0tKRu4nQ",
        "colab_type": "text"
      },
      "source": [
        "**Choose the size of your training dataset as a percentage of the total dataset.** Typically, our training dataset size should be larger than our validation and test dataset size. By default, the training dataset length is set to 80% of the entire dataset."
      ]
    },
    {
      "cell_type": "code",
      "metadata": {
        "id": "-tQN3PGGvKYB",
        "colab_type": "code",
        "colab": {}
      },
      "source": [
        "training_data_size = 0.8"
      ],
      "execution_count": 0,
      "outputs": []
    },
    {
      "cell_type": "code",
      "metadata": {
        "id": "iSyZCuT9aDtP",
        "colab_type": "code",
        "colab": {}
      },
      "source": [
        "# create a dataframe with only the 'Close' column\n",
        "data = df.filter(['Close'])\n",
        "\n",
        "# convert dataframe into numpy array\n",
        "dataset = data.values\n",
        "\n",
        "# get number of rows to train the model on\n",
        "training_data_len = math.ceil(len(dataset) * training_data_size)\n",
        "\n",
        "# scale/normalize the data\n",
        "scaler = MinMaxScaler(feature_range=(0,1))\n",
        "scaled_data = scaler.fit_transform(dataset)"
      ],
      "execution_count": 0,
      "outputs": []
    },
    {
      "cell_type": "markdown",
      "metadata": {
        "id": "FtriBofpvwl8",
        "colab_type": "text"
      },
      "source": [
        "Another important component of the training data size is each individual length. How many days are relevant to predicting the price of a stock? 1 month? 3 months? **Choose a time frame that you believe is enough to determine this information in days.** By default we set this to 60 days, or two months."
      ]
    },
    {
      "cell_type": "code",
      "metadata": {
        "id": "2htCy4zwwRln",
        "colab_type": "code",
        "colab": {}
      },
      "source": [
        "days = 60"
      ],
      "execution_count": 0,
      "outputs": []
    },
    {
      "cell_type": "code",
      "metadata": {
        "id": "X5TVdTKwckql",
        "colab_type": "code",
        "colab": {}
      },
      "source": [
        "# Create training dataset\n",
        "# Create the scaled training_data_set\n",
        "train_data = scaled_data[0: training_data_len, :]\n",
        "\n",
        "#Split the data into x_train and y_train data sets\n",
        "x_train = []\n",
        "y_train = []\n",
        "\n",
        "for i in range(days, len(train_data)):\n",
        "  x_train.append(train_data[i-days: i, 0])\n",
        "  y_train.append(train_data[i, 0])\n",
        "\n",
        "# convert the x_train and y_train to numpy arrays\n",
        "x_train, y_train = np.array(x_train), np.array(y_train)\n",
        "\n",
        "# reshape the data (LSTM expects 3D)\n",
        "x_train = np.reshape(x_train, (x_train.shape[0], x_train.shape[1], 1))"
      ],
      "execution_count": 0,
      "outputs": []
    },
    {
      "cell_type": "markdown",
      "metadata": {
        "id": "59SZYWnewmnA",
        "colab_type": "text"
      },
      "source": [
        "# **Our Model**\n",
        "Our model uses two LSTM layers and two Dense layers. Of course, our model is just one of many possible models that can be used to fit our training data. In practice, LSTM is a valuable tool that is used in many financial modeling contexts. Another customizable feature within each layer is the number of neurons. Again, choosing too few neurons can cause accuracy issues and choosing too many can cause overfitting problems. This logic also applies to the number of layers in our model. The optimal amount of neurons also depends on the dataset size and training data size. **Choose the number of neurons in the LSTM layer.** By default, there are 50 neurons in each layer."
      ]
    },
    {
      "cell_type": "code",
      "metadata": {
        "id": "j9oRtxlfxrg7",
        "colab_type": "code",
        "colab": {}
      },
      "source": [
        "neurons = 50"
      ],
      "execution_count": 0,
      "outputs": []
    },
    {
      "cell_type": "code",
      "metadata": {
        "id": "klNUN4Xjed6Z",
        "colab_type": "code",
        "colab": {}
      },
      "source": [
        "# Build LSTM model\n",
        "model = Sequential()\n",
        "model.add(LSTM(neurons, return_sequences=True, input_shape=(x_train.shape[1], 1)))\n",
        "model.add(LSTM(neurons, return_sequences=False))\n",
        "half_neurons = math.ceil(neurons / 2)\n",
        "model.add(Dense(half_neurons))\n",
        "model.add(Dense(1))\n",
        "\n",
        "# Compile the model\n",
        "model.compile(optimizer='adam', loss='mean_squared_error')"
      ],
      "execution_count": 0,
      "outputs": []
    },
    {
      "cell_type": "markdown",
      "metadata": {
        "id": "XM8QdMTbyf_v",
        "colab_type": "text"
      },
      "source": [
        "After choosing the number of neurons at each layer and compiling the layers into a single model, we can decide how our model fits the data. Batch size refers to the number of training examples in each iteration. Epochs refers to the number of iterations there are. Increasing batch size will decrease the running time and increasing the number of epochs will dramatically increase the running time. Again, the issue of overfitting comes into play, so choose wisely. **Choose the batch_size and epoch numbers.** By default, both are set to 1."
      ]
    },
    {
      "cell_type": "code",
      "metadata": {
        "id": "PullehEpycaU",
        "colab_type": "code",
        "colab": {}
      },
      "source": [
        "batch_size = 1\n",
        "epochs = 1"
      ],
      "execution_count": 0,
      "outputs": []
    },
    {
      "cell_type": "markdown",
      "metadata": {
        "id": "bOLrqUDjyLzM",
        "colab_type": "text"
      },
      "source": [
        "# **Train your Data on your Model!**\n",
        "You may have to wait a few minutes. The model will be finished running when all epochs are finished iterating."
      ]
    },
    {
      "cell_type": "code",
      "metadata": {
        "id": "cwwUAjDVfrQV",
        "colab_type": "code",
        "colab": {
          "base_uri": "https://localhost:8080/",
          "height": 68
        },
        "outputId": "1e891475-37da-4a91-fd62-ed8771bf1c53"
      },
      "source": [
        "# Train the model\n",
        "model.fit(x_train, y_train, batch_size=batch_size, epochs=epochs)"
      ],
      "execution_count": 210,
      "outputs": [
        {
          "output_type": "stream",
          "text": [
            "Epoch 1/1\n",
            "1578/1578 [==============================] - 120s 76ms/step - loss: 2.3164e-04\n"
          ],
          "name": "stdout"
        },
        {
          "output_type": "execute_result",
          "data": {
            "text/plain": [
              "<keras.callbacks.History at 0x7fb134c3c160>"
            ]
          },
          "metadata": {
            "tags": []
          },
          "execution_count": 210
        }
      ]
    },
    {
      "cell_type": "code",
      "metadata": {
        "id": "IrHThhz0f2yO",
        "colab_type": "code",
        "colab": {}
      },
      "source": [
        "# create the testing dataset\n",
        "# create a new array containing scaled values from index 1543 to 2003\n",
        "test_data = scaled_data[training_data_len - days: , :]\n",
        "\n",
        "# create the datasets x_test and y_test\n",
        "x_test = []\n",
        "y_test = dataset[training_data_len:, :]\n",
        "for i in range(days, len(test_data)):\n",
        "  x_test.append(test_data[i-days:i, 0])\n",
        "\n",
        "# convert the data to a numpy array\n",
        "x_test = np.array(x_test)\n",
        "\n",
        "# reshape the data\n",
        "x_test = np.reshape(x_test, (x_test.shape[0], x_test.shape[1], 1))\n",
        "\n",
        "# get the model's predicted price values\n",
        "predictions = model.predict(x_test)\n",
        "predictions = scaler.inverse_transform(predictions)"
      ],
      "execution_count": 0,
      "outputs": []
    },
    {
      "cell_type": "markdown",
      "metadata": {
        "id": "JoW9wJ7Qz5_s",
        "colab_type": "text"
      },
      "source": [
        "How well did our model do? Below is the root mean squared error. The closer the number is to zero, the better our model fitted. the dataset."
      ]
    },
    {
      "cell_type": "code",
      "metadata": {
        "id": "ZkQtagOkhsrK",
        "colab_type": "code",
        "colab": {
          "base_uri": "https://localhost:8080/",
          "height": 34
        },
        "outputId": "00f72fd6-39b1-4c61-e449-8295525f5d4a"
      },
      "source": [
        "# get root mean squared error (RMSE)\n",
        "rmse = np.sqrt(np.mean(predictions - y_test)**2)\n",
        "rmse"
      ],
      "execution_count": 212,
      "outputs": [
        {
          "output_type": "execute_result",
          "data": {
            "text/plain": [
              "10.956429292636862"
            ]
          },
          "metadata": {
            "tags": []
          },
          "execution_count": 212
        }
      ]
    },
    {
      "cell_type": "markdown",
      "metadata": {
        "id": "STXIboBP0HzE",
        "colab_type": "text"
      },
      "source": [
        "In fact, we can show how well our model did by the graph below. The blue region refers to our test data and the right region with two colors shows the actual stock price and the predicted price. How well did your model do?"
      ]
    },
    {
      "cell_type": "code",
      "metadata": {
        "id": "lmSZvjpniCxX",
        "colab_type": "code",
        "colab": {
          "base_uri": "https://localhost:8080/",
          "height": 660
        },
        "outputId": "ee0870e0-2e6a-4f49-b569-ca332b5fc612"
      },
      "source": [
        "# plot the data\n",
        "train = data[:training_data_len]\n",
        "valid = data[training_data_len:]\n",
        "valid['Predictions'] = predictions\n",
        "\n",
        "# visualize the data\n",
        "plt.figure(figsize=(16,8))\n",
        "plt.title('Model')\n",
        "plt.xlabel('Date', fontsize=18)\n",
        "plt.ylabel('Close Price USD ($)', fontsize=18)\n",
        "plt.plot(train['Close'])\n",
        "plt.plot(valid[['Close', 'Predictions']])\n",
        "plt.legend(['Train', 'Actual', 'Predictions'], loc='lower right')\n",
        "plt.show()\n"
      ],
      "execution_count": 213,
      "outputs": [
        {
          "output_type": "stream",
          "text": [
            "/usr/local/lib/python3.6/dist-packages/ipykernel_launcher.py:3: SettingWithCopyWarning: \n",
            "A value is trying to be set on a copy of a slice from a DataFrame.\n",
            "Try using .loc[row_indexer,col_indexer] = value instead\n",
            "\n",
            "See the caveats in the documentation: http://pandas.pydata.org/pandas-docs/stable/user_guide/indexing.html#returning-a-view-versus-a-copy\n",
            "  This is separate from the ipykernel package so we can avoid doing imports until\n"
          ],
          "name": "stderr"
        },
        {
          "output_type": "display_data",
          "data": {
            "image/png": "[encoded data removed]",
            "text/plain": [
              "<Figure size 1152x576 with 1 Axes>"
            ]
          },
          "metadata": {
            "tags": []
          }
        }
      ]
    },
    {
      "cell_type": "code",
      "metadata": {
        "id": "ZrEn7pqzjex2",
        "colab_type": "code",
        "colab": {}
      },
      "source": [
        "# get the quote \n",
        "quote = web.DataReader(stock, data_source='yahoo', start=transform_year_to_dt(year), end=date.today())\n",
        "\n",
        "# create a new dataframe\n",
        "new_df = apple_quote.filter(['Close'])\n",
        "# get the last 60 day closing price values and convert the dataframe to an array\n",
        "last_60_days = new_df[-60:].values\n",
        "# scale the data to be values between 0 and 1\n",
        "last_60_days_scaled = scaler.transform(last_60_days)\n",
        "# create an empty list\n",
        "X_test = []\n",
        "# append past 60 days \n",
        "X_test.append(last_60_days_scaled)\n",
        "# convert the X_test to a numpy array\n",
        "X_test = np.array(X_test)\n",
        "# reshape the data\n",
        "X_test = np.reshape(X_test, (X_test.shape[0], X_test.shape[1], 1))\n",
        "# get predicted scaled price\n",
        "pred_price = model.predict(X_test)\n",
        "# undo the scaling\n",
        "pred_price = scaler.inverse_transform(pred_price)"
      ],
      "execution_count": 0,
      "outputs": []
    },
    {
      "cell_type": "markdown",
      "metadata": {
        "id": "YDWPDkln13nH",
        "colab_type": "text"
      },
      "source": [
        "Below is a chart that is equivalent to the graph above. The numbers shown on the right column are the model's predicted values and the middle column is the actual closing price. Notice that the chart only contains our test data and not our training data as we only used our model to train with our training data and predict with our testing data."
      ]
    },
    {
      "cell_type": "code",
      "metadata": {
        "id": "_EA-_oq11aRI",
        "colab_type": "code",
        "colab": {
          "base_uri": "https://localhost:8080/",
          "height": 450
        },
        "outputId": "a43b6273-d214-43b5-f3f4-0c7a0851b977"
      },
      "source": [
        "valid = valid.rename(columns={\"Close\": \"Actual Closing Price\"})\n",
        "valid"
      ],
      "execution_count": 228,
      "outputs": [
        {
          "output_type": "execute_result",
          "data": {
            "text/html": [
              "<div>\n",
              "<style scoped>\n",
              "    .dataframe tbody tr th:only-of-type {\n",
              "        vertical-align: middle;\n",
              "    }\n",
              "\n",
              "    .dataframe tbody tr th {\n",
              "        vertical-align: top;\n",
              "    }\n",
              "\n",
              "    .dataframe thead th {\n",
              "        text-align: right;\n",
              "    }\n",
              "</style>\n",
              "<table border=\"1\" class=\"dataframe\">\n",
              "  <thead>\n",
              "    <tr style=\"text-align: right;\">\n",
              "      <th></th>\n",
              "      <th>Actual Closing Price</th>\n",
              "      <th>Predictions</th>\n",
              "    </tr>\n",
              "    <tr>\n",
              "      <th>Date</th>\n",
              "      <th></th>\n",
              "      <th></th>\n",
              "    </tr>\n",
              "  </thead>\n",
              "  <tbody>\n",
              "    <tr>\n",
              "      <th>2018-07-09</th>\n",
              "      <td>190.580002</td>\n",
              "      <td>195.907425</td>\n",
              "    </tr>\n",
              "    <tr>\n",
              "      <th>2018-07-10</th>\n",
              "      <td>190.350006</td>\n",
              "      <td>197.475021</td>\n",
              "    </tr>\n",
              "    <tr>\n",
              "      <th>2018-07-11</th>\n",
              "      <td>187.880005</td>\n",
              "      <td>198.774734</td>\n",
              "    </tr>\n",
              "    <tr>\n",
              "      <th>2018-07-12</th>\n",
              "      <td>191.029999</td>\n",
              "      <td>198.793930</td>\n",
              "    </tr>\n",
              "    <tr>\n",
              "      <th>2018-07-13</th>\n",
              "      <td>191.330002</td>\n",
              "      <td>199.334991</td>\n",
              "    </tr>\n",
              "    <tr>\n",
              "      <th>...</th>\n",
              "      <td>...</td>\n",
              "      <td>...</td>\n",
              "    </tr>\n",
              "    <tr>\n",
              "      <th>2020-02-14</th>\n",
              "      <td>324.950012</td>\n",
              "      <td>345.467682</td>\n",
              "    </tr>\n",
              "    <tr>\n",
              "      <th>2020-02-18</th>\n",
              "      <td>319.000000</td>\n",
              "      <td>346.015381</td>\n",
              "    </tr>\n",
              "    <tr>\n",
              "      <th>2020-02-19</th>\n",
              "      <td>323.619995</td>\n",
              "      <td>344.013245</td>\n",
              "    </tr>\n",
              "    <tr>\n",
              "      <th>2020-02-20</th>\n",
              "      <td>320.299988</td>\n",
              "      <td>343.564240</td>\n",
              "    </tr>\n",
              "    <tr>\n",
              "      <th>2020-02-21</th>\n",
              "      <td>313.049988</td>\n",
              "      <td>342.522339</td>\n",
              "    </tr>\n",
              "  </tbody>\n",
              "</table>\n",
              "<p>409 rows × 2 columns</p>\n",
              "</div>"
            ],
            "text/plain": [
              "            Actual Closing Price  Predictions\n",
              "Date                                         \n",
              "2018-07-09            190.580002   195.907425\n",
              "2018-07-10            190.350006   197.475021\n",
              "2018-07-11            187.880005   198.774734\n",
              "2018-07-12            191.029999   198.793930\n",
              "2018-07-13            191.330002   199.334991\n",
              "...                          ...          ...\n",
              "2020-02-14            324.950012   345.467682\n",
              "2020-02-18            319.000000   346.015381\n",
              "2020-02-19            323.619995   344.013245\n",
              "2020-02-20            320.299988   343.564240\n",
              "2020-02-21            313.049988   342.522339\n",
              "\n",
              "[409 rows x 2 columns]"
            ]
          },
          "metadata": {
            "tags": []
          },
          "execution_count": 228
        }
      ]
    },
    {
      "cell_type": "markdown",
      "metadata": {
        "id": "iGJQR_eO2byv",
        "colab_type": "text"
      },
      "source": [
        "**Feel free to go back and change some of the customizable things like stock, year, batch_size, epochs, etc to fit your data on a different model.**"
      ]
    }
  ]
}